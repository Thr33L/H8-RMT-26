{
  "nbformat": 4,
  "nbformat_minor": 0,
  "metadata": {
    "colab": {
      "provenance": []
    },
    "kernelspec": {
      "name": "python3",
      "display_name": "Python 3"
    },
    "language_info": {
      "name": "python"
    }
  },
  "cells": [
    {
      "cell_type": "markdown",
      "source": [
        "# **Non-Graded Challenges 1**"
      ],
      "metadata": {
        "id": "0T8V6mjFomHp"
      }
    },
    {
      "cell_type": "markdown",
      "source": [
        "# Task #1"
      ],
      "metadata": {
        "id": "0VzgMFmOo31l"
      }
    },
    {
      "cell_type": "markdown",
      "source": [
        "Given list of customer_id that doing transaction in 1 day:\n",
        "\n",
        "customer_id = ['B818', 'A461', 'A092', 'A082', 'B341', 'A005', 'A092', 'A461','B219', 'B904', 'A901', 'A083', 'B904', 'A092', 'B341', 'B821','B341', 'B821', 'B904', 'B818', 'A901', 'A083', 'B818', 'A082','B219', 'B219', 'A083', 'A901', 'A082', 'B341', 'B341', 'A083','A082', 'B219', 'B439', 'A461', 'A005', 'A901', 'B341', 'A082','A083', 'A461', 'A083', 'A901', 'A461', 'A083', 'A082', 'A083','B341', 'A901', 'A082', 'A461', 'B219', 'A083', 'B818', 'B821','A092', 'B341', 'A461', 'A092', 'A083', 'B821', 'A092']\n",
        "\n",
        "How many unique customer_id from above list"
      ],
      "metadata": {
        "id": "oYRv8HNmo_x6"
      }
    },
    {
      "cell_type": "code",
      "source": [
        "customer_id = ['B818', 'A461', 'A092', 'A082', 'B341', 'A005', 'A092', 'A461','B219', 'B904', 'A901', 'A083', 'B904', 'A092', 'B341', 'B821','B341', 'B821', 'B904', 'B818', 'A901', 'A083', 'B818', 'A082','B219', 'B219', 'A083', 'A901', 'A082', 'B341', 'B341', 'A083','A082', 'B219', 'B439', 'A461', 'A005', 'A901', 'B341', 'A082','A083', 'A461', 'A083', 'A901', 'A461', 'A083', 'A082', 'A083','B341', 'A901', 'A082', 'A461', 'B219', 'A083', 'B818', 'B821','A092', 'B341', 'A461', 'A092', 'A083', 'B821', 'A092']\n",
        "\n",
        "id_set = set(customer_id)\n",
        "\n",
        "unique_id = len(id_set)\n",
        "\n",
        "print(\"There are\", unique_id, \"unique customer_id from above list\")"
      ],
      "metadata": {
        "colab": {
          "base_uri": "https://localhost:8080/"
        },
        "id": "pa0mZGGPpw8G",
        "outputId": "dfe5c644-b748-4413-f578-0ab70c16cbd7"
      },
      "execution_count": 2,
      "outputs": [
        {
          "output_type": "stream",
          "name": "stdout",
          "text": [
            "there are 12 unique customer_id from above list\n"
          ]
        }
      ]
    },
    {
      "cell_type": "markdown",
      "source": [
        "# Task #2"
      ],
      "metadata": {
        "id": "bkkn5Rkcrirx"
      }
    },
    {
      "cell_type": "markdown",
      "source": [
        "Given list of:\n",
        "\n",
        "Data = [1, 4, 9, 16, 25, 36, 49,  64, 81, 100]\n",
        "\n",
        "Use indexing so you can get this output:\n",
        "\n",
        "a. 16\n",
        "\n",
        "b. [36, 49, 64, 81]\n",
        "\n",
        "c. [100, 81, 64, 49, 36, 25, 16, 9, 4, 1]"
      ],
      "metadata": {
        "id": "39bw1bDhr1FK"
      }
    },
    {
      "cell_type": "code",
      "source": [
        "# Part a\n",
        "\n",
        "Data = [1, 4, 9, 16, 25, 36, 49, 64, 81, 100]\n",
        "\n",
        "print(Data[3])"
      ],
      "metadata": {
        "colab": {
          "base_uri": "https://localhost:8080/"
        },
        "id": "ax9NNDptsBim",
        "outputId": "01ebdc28-d76a-41b8-f827-8cca948aea7c"
      },
      "execution_count": 4,
      "outputs": [
        {
          "output_type": "stream",
          "name": "stdout",
          "text": [
            "16\n"
          ]
        }
      ]
    },
    {
      "cell_type": "code",
      "source": [
        "# Part b\n",
        "\n",
        "Data = [1, 4, 9, 16, 25, 36, 49, 64, 81, 100]\n",
        "\n",
        "print(Data[5:9])"
      ],
      "metadata": {
        "colab": {
          "base_uri": "https://localhost:8080/"
        },
        "id": "tDCxaxdJsnpq",
        "outputId": "4b347cb7-9850-4ac5-c388-55a62f4be76e"
      },
      "execution_count": 5,
      "outputs": [
        {
          "output_type": "stream",
          "name": "stdout",
          "text": [
            "[36, 49, 64, 81]\n"
          ]
        }
      ]
    },
    {
      "cell_type": "code",
      "source": [
        "# Part c\n",
        "\n",
        "Data = [1, 4, 9, 16, 25, 36, 49, 64, 81, 100]\n",
        "\n",
        "Data.reverse()\n",
        "\n",
        "print(Data)"
      ],
      "metadata": {
        "colab": {
          "base_uri": "https://localhost:8080/"
        },
        "id": "GcweAdjyte87",
        "outputId": "e74850e2-fc55-497b-98da-8e52b112083f"
      },
      "execution_count": 12,
      "outputs": [
        {
          "output_type": "stream",
          "name": "stdout",
          "text": [
            "[100, 81, 64, 49, 36, 25, 16, 9, 4, 1]\n"
          ]
        }
      ]
    },
    {
      "cell_type": "markdown",
      "source": [
        "# Task #3"
      ],
      "metadata": {
        "id": "33nrqPveWP0l"
      }
    },
    {
      "cell_type": "markdown",
      "source": [
        "Given a dictionary of:\n",
        "\n",
        "provinsi = {'Nanggroe Aceh Darussalam': 'Aceh','Sumatera Selatan': 'Palembang','Kalimantan Barat': 'Pontianak','Jawa Timur': 'Madiun','Sulawesi Selatan': 'Makassar','Maluku': 'Ambon'}\n",
        "\n",
        "What python command can be use to:\n",
        "\n",
        "a.Get list of keys available in dictionary\n",
        "\n",
        "b.Change 'Jawa Timur' value from 'Madiun'  to 'Surabaya'"
      ],
      "metadata": {
        "id": "NdbhSjJPWU5f"
      }
    },
    {
      "cell_type": "code",
      "source": [
        "# Part a\n",
        "\n",
        "provinsi = {\n",
        "    'Nanggroe Aceh Darussalam': 'Aceh',\n",
        "    'Sumatera Selatan': 'Palembang',\n",
        "    'Kalimantan Barat': 'Pontianak',\n",
        "    'Jawa Timur': 'Madiun',\n",
        "    'Sulawesi Selatan': 'Makassar',\n",
        "    'Maluku': 'Ambon'\n",
        "    }\n",
        "\n",
        "print(provinsi.keys())"
      ],
      "metadata": {
        "colab": {
          "base_uri": "https://localhost:8080/"
        },
        "id": "C8LHMaOnWnxP",
        "outputId": "9a99ca6e-5500-4ebc-902d-5bc0cadc3dd2"
      },
      "execution_count": 7,
      "outputs": [
        {
          "output_type": "stream",
          "name": "stdout",
          "text": [
            "dict_keys(['Nanggroe Aceh Darussalam', 'Sumatera Selatan', 'Kalimantan Barat', 'Jawa Timur', 'Sulawesi Selatan', 'Maluku'])\n"
          ]
        }
      ]
    },
    {
      "cell_type": "code",
      "source": [
        "# Part b\n",
        "\n",
        "provinsi[\"Jawa Timur\"] = \"Surabaya\"\n",
        "\n",
        "print(provinsi)"
      ],
      "metadata": {
        "colab": {
          "base_uri": "https://localhost:8080/"
        },
        "id": "HMUZzjzkXYh5",
        "outputId": "3bc79c30-72b4-4fa3-fbac-ce0c0f60212d"
      },
      "execution_count": 14,
      "outputs": [
        {
          "output_type": "stream",
          "name": "stdout",
          "text": [
            "{'Nanggroe Aceh Darussalam': 'Aceh', 'Sumatera Selatan': 'Palembang', 'Kalimantan Barat': 'Pontianak', 'Jawa Timur': 'Surabaya', 'Sulawesi Selatan': 'Makassar', 'Maluku': 'Ambon'}\\m"
          ]
        }
      ]
    }
  ]
}